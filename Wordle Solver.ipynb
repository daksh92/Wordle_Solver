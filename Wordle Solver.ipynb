{
 "cells": [
  {
   "cell_type": "code",
   "execution_count": 14,
   "id": "6f20a8c7",
   "metadata": {},
   "outputs": [
    {
     "name": "stderr",
     "output_type": "stream",
     "text": [
      "[nltk_data] Downloading package words to\n",
      "[nltk_data]     C:\\Users\\daksh\\AppData\\Roaming\\nltk_data...\n",
      "[nltk_data]   Package words is already up-to-date!\n"
     ]
    },
    {
     "data": {
      "text/plain": [
       "True"
      ]
     },
     "execution_count": 14,
     "metadata": {},
     "output_type": "execute_result"
    }
   ],
   "source": [
    "import nltk\n",
    "import string\n",
    "import copy\n",
    "import re\n",
    "import pandas as pd\n",
    "import numpy as np\n",
    "import seaborn as sns\n",
    "\n",
    "from tqdm import tqdm\n",
    "from matplotlib import pyplot as plt\n",
    "from collections import defaultdict, Counter\n",
    "nltk.download('words')"
   ]
  },
  {
   "cell_type": "markdown",
   "id": "6ab31dc7",
   "metadata": {},
   "source": [
    "Get 5 letter words"
   ]
  },
  {
   "cell_type": "code",
   "execution_count": 15,
   "id": "331fd04b",
   "metadata": {},
   "outputs": [
    {
     "name": "stdout",
     "output_type": "stream",
     "text": [
      "2315 ['ABACK', 'ABASE', 'ABATE', 'ABBEY', 'ABBOT']\n"
     ]
    }
   ],
   "source": [
    "with open(\"C:/Users/daksh/Documents/answers.txt\") as file:\n",
    "    possible_answers = file.readlines()\n",
    "\n",
    "list_possible_answers = sorted([re.sub(r'[^A-Z]', '', t.upper()) for t in possible_answers[0].split(',')])\n",
    "print(len(list_possible_answers),\n",
    "      list_possible_answers[:5])"
   ]
  },
  {
   "cell_type": "markdown",
   "id": "c7a8d57a",
   "metadata": {},
   "source": [
    "\n",
    "\n",
    "Arrange as a DataFrame\n"
   ]
  },
  {
   "cell_type": "code",
   "execution_count": 16,
   "id": "9995b7e2",
   "metadata": {},
   "outputs": [
    {
     "data": {
      "text/html": [
       "<div>\n",
       "<style scoped>\n",
       "    .dataframe tbody tr th:only-of-type {\n",
       "        vertical-align: middle;\n",
       "    }\n",
       "\n",
       "    .dataframe tbody tr th {\n",
       "        vertical-align: top;\n",
       "    }\n",
       "\n",
       "    .dataframe thead th {\n",
       "        text-align: right;\n",
       "    }\n",
       "</style>\n",
       "<table border=\"1\" class=\"dataframe\">\n",
       "  <thead>\n",
       "    <tr style=\"text-align: right;\">\n",
       "      <th></th>\n",
       "      <th>letter_1</th>\n",
       "      <th>letter_2</th>\n",
       "      <th>letter_3</th>\n",
       "      <th>letter_4</th>\n",
       "      <th>letter_5</th>\n",
       "      <th>word</th>\n",
       "    </tr>\n",
       "  </thead>\n",
       "  <tbody>\n",
       "    <tr>\n",
       "      <th>0</th>\n",
       "      <td>A</td>\n",
       "      <td>B</td>\n",
       "      <td>A</td>\n",
       "      <td>C</td>\n",
       "      <td>K</td>\n",
       "      <td>ABACK</td>\n",
       "    </tr>\n",
       "    <tr>\n",
       "      <th>1</th>\n",
       "      <td>A</td>\n",
       "      <td>B</td>\n",
       "      <td>A</td>\n",
       "      <td>S</td>\n",
       "      <td>E</td>\n",
       "      <td>ABASE</td>\n",
       "    </tr>\n",
       "    <tr>\n",
       "      <th>2</th>\n",
       "      <td>A</td>\n",
       "      <td>B</td>\n",
       "      <td>A</td>\n",
       "      <td>T</td>\n",
       "      <td>E</td>\n",
       "      <td>ABATE</td>\n",
       "    </tr>\n",
       "    <tr>\n",
       "      <th>3</th>\n",
       "      <td>A</td>\n",
       "      <td>B</td>\n",
       "      <td>B</td>\n",
       "      <td>E</td>\n",
       "      <td>Y</td>\n",
       "      <td>ABBEY</td>\n",
       "    </tr>\n",
       "    <tr>\n",
       "      <th>4</th>\n",
       "      <td>A</td>\n",
       "      <td>B</td>\n",
       "      <td>B</td>\n",
       "      <td>O</td>\n",
       "      <td>T</td>\n",
       "      <td>ABBOT</td>\n",
       "    </tr>\n",
       "  </tbody>\n",
       "</table>\n",
       "</div>"
      ],
      "text/plain": [
       "  letter_1 letter_2 letter_3 letter_4 letter_5   word\n",
       "0        A        B        A        C        K  ABACK\n",
       "1        A        B        A        S        E  ABASE\n",
       "2        A        B        A        T        E  ABATE\n",
       "3        A        B        B        E        Y  ABBEY\n",
       "4        A        B        B        O        T  ABBOT"
      ]
     },
     "execution_count": 16,
     "metadata": {},
     "output_type": "execute_result"
    }
   ],
   "source": [
    "arr_words_5l = np.array([list(w) for w in list_possible_answers])\n",
    "df_words_5l = pd.DataFrame(data=arr_words_5l,\n",
    "                           columns=[f'letter_{i+1}' for i in range(5)])\n",
    "df_words_5l['word'] = list_possible_answers\n",
    "df_words_5l.head()"
   ]
  },
  {
   "cell_type": "markdown",
   "id": "ed298d9e",
   "metadata": {},
   "source": [
    "Assess how frequent letters are at each position"
   ]
  },
  {
   "cell_type": "code",
   "execution_count": 17,
   "id": "0d432a9d",
   "metadata": {},
   "outputs": [
    {
     "data": {
      "text/plain": [
       "Counter({'A': 141,\n",
       "         'B': 173,\n",
       "         'C': 198,\n",
       "         'D': 111,\n",
       "         'E': 72,\n",
       "         'F': 136,\n",
       "         'G': 115,\n",
       "         'H': 69,\n",
       "         'I': 34,\n",
       "         'J': 20,\n",
       "         'K': 20,\n",
       "         'L': 88,\n",
       "         'M': 107,\n",
       "         'N': 37,\n",
       "         'O': 41,\n",
       "         'P': 142,\n",
       "         'Q': 23,\n",
       "         'R': 105,\n",
       "         'S': 366,\n",
       "         'T': 149,\n",
       "         'U': 33,\n",
       "         'V': 43,\n",
       "         'W': 83,\n",
       "         'Y': 6,\n",
       "         'Z': 3})"
      ]
     },
     "execution_count": 17,
     "metadata": {},
     "output_type": "execute_result"
    }
   ],
   "source": [
    "test_dict_letter_counts = Counter()\n",
    "for i in range(5):\n",
    "    test_dict_letter_counts[i+1] = Counter(df_words_5l[f'letter_{i+1}'])\n",
    "    \n",
    "test_dict_letter_counts[1]"
   ]
  },
  {
   "cell_type": "markdown",
   "id": "ff1a26ab",
   "metadata": {},
   "source": [
    "\n",
    "Create Game class\n"
   ]
  },
  {
   "cell_type": "code",
   "execution_count": 18,
   "id": "f33e5ba1",
   "metadata": {},
   "outputs": [],
   "source": [
    "class Game:\n",
    "    \n",
    "    def __init__(self, df_all_5l_words):\n",
    "        \n",
    "        # Start with whole alphabet as list of possible letters in word\n",
    "        self.possible_letters = list(string.ascii_uppercase)\n",
    "        \n",
    "        # To store guessed letters that are correct, but in the wrong location\n",
    "        self.dict_misplaced_letters = Counter()\n",
    "        \n",
    "        # Possible answers\n",
    "        self.df_possible_5l_words = df_all_5l_words.copy(deep=True)\n",
    "        \n",
    "        # Dictionary of answers, initialised as empty\n",
    "        self.dict_letters = defaultdict(str)\n",
    "        for i in range(5):\n",
    "            self.dict_letters[i+1] = None\n",
    "        \n",
    "        # Initialise dictionary of letter counts at each position, updated as we play the game\n",
    "        self.dict_letter_counts = defaultdict(str)\n",
    "        for i in range(5):\n",
    "            self.dict_letter_counts[i+1] = Counter(df_all_5l_words[f'letter_{i+1}'])\n",
    "        \n",
    "\n",
    "    def calculate_freq_score(self, letters: str) -> int:\n",
    "        '''\n",
    "        Based on a set of letters, sum their frequency score at each position.\n",
    "        e.g. If we have 1,000 possible 5 letter words, and we look at the word\n",
    "        STAGE - if S appears as the first letter of 300 words in the 1,000, then\n",
    "        S gets a score of 300.\n",
    "        \n",
    "        Applying this logic to all letters in the word provides a frequency score,\n",
    "        with the idea that a high word score implies that the word contains frequently\n",
    "        occurring letters (relative to the possible 5 letter words) - and is therefore a \n",
    "        good word for our next guess.\n",
    "        \n",
    "        :param letters: 5 character string, case insensitive\n",
    "        :returns: a frequency score (int) for the word as defined above.\n",
    "        '''\n",
    "        \n",
    "        letters = re.sub('^A-Z', '', letters.upper())\n",
    "        assert len(letters) == 5, 'Word must be 5 characters long'\n",
    "        score = 0\n",
    "        for i, l in enumerate(list(letters.upper())):\n",
    "            score += self.dict_letter_counts[i+1][l]\n",
    "            \n",
    "        return score\n",
    "        \n",
    "    \n",
    "    def guess(self):\n",
    "        '''\n",
    "        Given a game state, returns a dataframe of possible 5 letter words (through self.df_possible_5l_words)\n",
    "        ordered by the highest frequency score descending. Frequency score is calculated using \n",
    "        the self.calculate_freq_score() method, vectorized for performance.\n",
    "        \n",
    "        :returns: self.df_possible_5l_words, ordered by freq_score descending\n",
    "        '''\n",
    "        \n",
    "        # First, reset letter counts\n",
    "        for i in range(5):\n",
    "            self.dict_letter_counts[i+1] = Counter(self.df_possible_5l_words[f'letter_{i+1}'])\n",
    "        \n",
    "        # Vectorize frequency score function to make it run faster\n",
    "        vect_calculate_freq_score = np.vectorize(self.calculate_freq_score)\n",
    "        \n",
    "        self.df_possible_5l_words['freq_score'] = vect_calculate_freq_score(self.df_possible_5l_words['word'])\n",
    "        \n",
    "        self.df_possible_5l_words = self.df_possible_5l_words.sort_values(by='freq_score', ascending=False)\n",
    "        return self.df_possible_5l_words\n",
    "    \n",
    "    \n",
    "    def check_misplaced_letters(self, word: str) -> bool:\n",
    "        '''\n",
    "        Allows us to filter dataframe of possible words containing at least the misplaced letters.\n",
    "        \n",
    "        e.g. If I guess 'GREET', and the 3rd  E is green, I filter the dataframe of possible words\n",
    "        for position 3 == \"E\". But if the 4th E is yellow, I also want to filter the possible words for \n",
    "        any where E falls in the 1st, 2nd, or 5th spots.\n",
    "        \n",
    "        We would first filter for position 4 != \"E\" (done in the self.update() method), then for a given word - \n",
    "        check that the count of the letter \"E\" was >=1 outside of position 3.\n",
    "        \n",
    "        :param word: 5 character string, case insensitive\n",
    "        :returns: a boolean, where True implies that the word has AT LEAST the letters contained in \n",
    "        self.dict_misplaced_letters (e.g. 2 \"E\"s outside of position 3 in the above example would be acceptable).\n",
    "        '''\n",
    "        \n",
    "        word = re.sub(r'[^A-Z]', '', word.upper())\n",
    "        assert len(word) == 5, 'Word must be 5 characters long'\n",
    "        \n",
    "        # Break into letters\n",
    "        list_word = list(word)\n",
    "        \n",
    "        # Get indices (1 indexed) of positions that have not yet been solved\n",
    "        not_solved = [key for key, value in self.dict_letters.items() if value is None]\n",
    "        \n",
    "        # Filter list of words for those not yet solved, removing 1 from the index as our letters are 1 indexed\n",
    "        list_word_unsolved = [list_word[i-1] for i in not_solved]\n",
    "        \n",
    "        # Check counts\n",
    "        dict_count_letters = Counter(list_word_unsolved)\n",
    "        \n",
    "        # Compare to dictionary of misplaced letters\n",
    "        valid = True\n",
    "        for check_key, check_value in self.dict_misplaced_letters.items():\n",
    "            if dict_count_letters[check_key] < check_value:\n",
    "                valid = False\n",
    "                \n",
    "        return valid\n",
    "        \n",
    "    \n",
    "    def update(self, guess: str, results: list):\n",
    "        '''\n",
    "        Takes a 5 letter guess as a string, and a list of results in the format:\n",
    "        0 - incorrect\n",
    "        1 - right letter, wrong place (known as misplaced)\n",
    "        2 - right letter, right place (known as correct)\n",
    "        \n",
    "        Updates the game states:\n",
    "        - self.df_possible_5l_words: list of possible 5 letter word answers\n",
    "        - self.dict_misplaced_letters: Counter dictionary of misplaced letters, and how many there \n",
    "          are in the target word.\n",
    "        - self.dict_letters: dictionary of the correct letter at each position (starts out with NULL values)\n",
    "        - self.possible_letters: letters of the alphabet that we can still use for guesses\n",
    "        \n",
    "        Doesn't return anything.\n",
    "        \n",
    "        :param guess: 5 character string, case insensitive\n",
    "        :param results: 5 item list containing only ints of the values 0, 1, or 2 indicating whether the guess\n",
    "        was correct (2), misplaced (1), or incorrect(0) at each corresponding position\n",
    "        '''\n",
    "        \n",
    "        guess = re.sub(r'[^A-Z]', '', guess.upper())\n",
    "        assert len(guess) == 5, 'Guess must be 5 characters long'\n",
    "        assert len(results) == 5, 'Results list must contain 5 items'\n",
    "        assert all([n in [0,1,2] for n in results]), 'Results list must only contain ints 0, 1, or 2'\n",
    "        \n",
    "        # Convert guess into list of letters\n",
    "        list_guess = list(guess.upper())\n",
    "        \n",
    "        # Zip with results\n",
    "        df_guess_results = pd.DataFrame(data=list(zip(list_guess, results)),\n",
    "                                        columns=['letter', 'result'],\n",
    "                                        index=np.arange(1,6))\n",
    "        \n",
    "        # To prevent iterating through already solved letters\n",
    "        already_solved = [key for key, value in self.dict_letters.items() if value is not None]\n",
    "        \n",
    "\n",
    "        # Update correct answers\n",
    "        df_corr_answers = df_guess_results.query('result==2')\n",
    "        if df_corr_answers.shape[0] > 0:\n",
    "            for idx, row in df_corr_answers.iterrows():\n",
    "                \n",
    "                # Prevent updates for previously solved letters\n",
    "                if idx in already_solved:\n",
    "                    pass\n",
    "                else:\n",
    "                    corr_letter = row['letter']\n",
    "                    self.dict_letters[idx] = corr_letter\n",
    "                \n",
    "                    # If correct letter was previously guessed as a misplaced letter, remove it\n",
    "                    if corr_letter in self.dict_misplaced_letters.keys():\n",
    "                        self.dict_misplaced_letters[corr_letter] -= 1\n",
    "                        \n",
    "                    # And filter dataframe of possible words\n",
    "                    self.df_possible_5l_words = self.df_possible_5l_words.query(f'letter_{idx}==\"{corr_letter}\"')\n",
    "\n",
    "          \n",
    "        # Add misplaced letters to our list, if it's a new letter\n",
    "        df_mispl_answers = df_guess_results.query('result==1')\n",
    "        if df_mispl_answers.shape[0] > 0:\n",
    "            \n",
    "            # Filter dataframe to remove any words that have the misplaced letter in that column\n",
    "            for idx, row in df_mispl_answers.iterrows():\n",
    "                mispl_letter = row['letter']\n",
    "                self.df_possible_5l_words = self.df_possible_5l_words.query(f'letter_{idx}!=\"{mispl_letter}\"')  \n",
    "            \n",
    "            # Check how many we have of each letter that's misplaced\n",
    "            guess_mispl_letters = df_mispl_answers['letter'].values\n",
    "            dict_guess_mispl_letters = Counter(guess_mispl_letters)\n",
    "            \n",
    "            # Then update our dictionary of misplaced letters\n",
    "            for key, value in dict_guess_mispl_letters.items():\n",
    "                self.dict_misplaced_letters[key] = value   \n",
    "            \n",
    "            # Filter dataframe for words containing at least the count of the misplaced letters\n",
    "            vect_check_misplaced_letters = np.vectorize(self.check_misplaced_letters)\n",
    "            self.df_possible_5l_words['valid'] = vect_check_misplaced_letters(self.df_possible_5l_words['word'])\n",
    "            self.df_possible_5l_words = self.df_possible_5l_words.query('valid == True')\n",
    "            self.df_possible_5l_words = self.df_possible_5l_words.drop('valid', axis=1)    \n",
    "        \n",
    "        \n",
    "        # Remove any incorrect letters from the list to guess from, if letter isn't in misplaced list\n",
    "        df_wrong_answers = df_guess_results.query('result==0')\n",
    "        if df_wrong_answers.shape[0] > 0:\n",
    "            \n",
    "            # Ensure we don't double count\n",
    "            for l in df_wrong_answers['letter'].unique():\n",
    "                if self.dict_misplaced_letters[l] == 0:\n",
    "                    self.possible_letters.remove(l)\n",
    "                \n",
    "                \n",
    "        # Finally, update list of possible 5 letter words by removing all rows where\n",
    "        # for letters yet to be guessed, they don't fall in the list of possible letters\n",
    "        yet_to_solve = [key for key, value in self.dict_letters.items() if value is None]\n",
    "        for position in yet_to_solve:\n",
    "            \n",
    "            # Check all letters in a given position\n",
    "            position_letters = self.df_possible_5l_words[f'letter_{position}']\n",
    "            \n",
    "            # Return a boolean list of whether that list is in the possible values or not\n",
    "            position_in_possible_letters = [l in self.possible_letters for l in position_letters]\n",
    "            \n",
    "            # Filter\n",
    "            self.df_possible_5l_words = self.df_possible_5l_words[position_in_possible_letters].copy(deep=True)\n",
    "\n"
   ]
  },
  {
   "cell_type": "markdown",
   "id": "e7a282c2",
   "metadata": {},
   "source": [
    "\n",
    "Game playing 1: Creating our own function to play the game, given a target word\n"
   ]
  },
  {
   "cell_type": "code",
   "execution_count": 19,
   "id": "1116b282",
   "metadata": {},
   "outputs": [],
   "source": [
    "def play_game(target_word, df_possible_words, debug=False):\n",
    "    '''\n",
    "    Allows us to play a game of wordle automatically by providing a target word.\n",
    "    \n",
    "    Runs through 6 guesses by:\n",
    "    - Initialising an instance of Game\n",
    "    - Running Game().guess() and taking the first row of the resulting dataframe as the\n",
    "      guess (word with the highest frequency score)\n",
    "    - Checking which letters, if any, in the guess match the target_word correctly (in the same positions)\n",
    "    - Checking whether any of the remaining letters in the guess appear in the target word (misplaced letters),\n",
    "      otherwise tagging them as incorrect\n",
    "    - Generating a result list of length 5 with values of 0 (incorrect), 1 (misplaced), or 2 (correct)\n",
    "    - If the list contains all 2's (correct guess), breaking the loop\n",
    "    - Otherwise, passes the guess and the result list to Game().update() to start the next guess loop\n",
    "    \n",
    "    This can be run with debug mode on or off, if debug mode is set to:\n",
    "    - True: It will print the summary of the guess & results at each turn, and when the game is finished or unsolved\n",
    "    - False: It will return a tuple of (target_word, guess_turn+1) when either the game is finished or unsolved, \n",
    "      useful for running lots of examples and tracking the results.\n",
    "\n",
    "    :param target_word: 5 character string that must be a part of this list https://github.com/jack-cook-repo/wordle-solver/blob/main/answers.txt\n",
    "    :param df_possible_words: A dataframe with the following columns ['letter_1', 'letter_2', 'letter_3', 'letter_4', 'letter_5', 'word']\n",
    "    :returns: If debug=False, a tuple of (target_word, guess_turn+1), where guess_turn+1 is either the turn\n",
    "    when the word was guessed correctly (adding 1 to handle 0 indexing), or 7 if the word wasn't guessed after 6 tries\n",
    "    '''\n",
    "    \n",
    "    target_word = re.sub(r'[^A-Z]', '', target_word.upper())\n",
    "    assert len(target_word) == 5, 'target_word must be 5 characters long'\n",
    "    assert all(df_possible_words.columns == ['letter_1', 'letter_2', 'letter_3', 'letter_4', 'letter_5', 'word']), \"Dataframe must have columns ['letter_1', 'letter_2', 'letter_3', 'letter_4', 'letter_5', 'word']\"\n",
    "    \n",
    "    TestGame = Game(df_possible_words)\n",
    "    \n",
    "    target_letters = list(target_word)\n",
    "    \n",
    "    for guess_turn in range(6):\n",
    "        \n",
    "        # Return word with highest frequency count across all letters as the guess\n",
    "        guess_word = TestGame.guess().iloc[0]['word'] \n",
    "        guess_letters = list(guess_word)\n",
    "        \n",
    "        # Dictionary of results at each position\n",
    "        dict_results = defaultdict(str)\n",
    "        for i in range(5):\n",
    "            dict_results[i] = None\n",
    "        \n",
    "        # First assign correct letters with a score of 2\n",
    "        for pos, guess_letter in enumerate(guess_letters):\n",
    "            if guess_letter == target_letters[pos]:\n",
    "                dict_results[pos] = 2\n",
    "        \n",
    "        # For remaining letters, if they appear within the target word - count them as misplaced\n",
    "        # Otherwise, count them as wrong\n",
    "        remaining_pos = [key for key, value in dict_results.items() if value is None]\n",
    "        if len(remaining_pos) == 0:\n",
    "            # Guess correct\n",
    "            results = [2, 2, 2, 2, 2]\n",
    "        else:\n",
    "            # Tag remaining letters in our guess and their position\n",
    "            # Need to use list as we may have duplicate keys (same letter in >1 position)\n",
    "            remaining_guess_letters = [[guess_letters[i], i] for i in remaining_pos]\n",
    "            \n",
    "            # Tag remaining letters in the answer, and create a Counter dictionary\n",
    "            remaining_target_letters = [target_letters[i] for i in remaining_pos]\n",
    "            dict_target_letter_count = Counter(remaining_target_letters)\n",
    "            \n",
    "            # Loop through our remaining guess letters\n",
    "            for [letter, pos] in remaining_guess_letters:\n",
    "                # Check they appear in the target word at least once\n",
    "                if dict_target_letter_count[letter] > 0:\n",
    "                    \n",
    "                    # Subtract from target letter count, to prevent double counting\n",
    "                    # e.g. tag first 'E' as misplaced, second 'E' as wrong when guessing GREET for\n",
    "                    # target word STAGE\n",
    "                    dict_target_letter_count[letter] -= 1\n",
    "                    \n",
    "                    # Update results\n",
    "                    dict_results[pos] = 1\n",
    "                else:\n",
    "                    dict_results[pos] = 0\n",
    "             \n",
    "            # Turn into list \n",
    "            results = list(dict_results.values())\n",
    "            \n",
    "        # Finally, produce results as a list and pass back to game to update\n",
    "        if debug:\n",
    "            print(f'Turn {guess_turn+1}, guess {guess_word}, results {results}\\n')\n",
    "        if np.sum(results) == 10:\n",
    "            if debug:\n",
    "                print('Game won!')\n",
    "            else:\n",
    "                # Used for tracking metrics\n",
    "                return (target_word, guess_turn+1)\n",
    "            break\n",
    "            \n",
    "        # If the game isn't solved by turn 6, return \"7\" as the number of guesses\n",
    "        if guess_turn == 5:\n",
    "            if debug:\n",
    "                print('Unsolved!')\n",
    "            else:\n",
    "                # Used for tracking metrics\n",
    "                return (target_word, 7)\n",
    "        \n",
    "        TestGame.update(guess_word, results)"
   ]
  },
  {
   "cell_type": "markdown",
   "id": "a2d6a904",
   "metadata": {},
   "source": [
    "\n",
    "\n",
    "Test with a random sample of answers\n"
   ]
  },
  {
   "cell_type": "code",
   "execution_count": 20,
   "id": "8f812fbe",
   "metadata": {},
   "outputs": [
    {
     "name": "stdout",
     "output_type": "stream",
     "text": [
      "**GAME 0: target FLESH**\n",
      "Turn 1, guess SLATE, results [1, 2, 0, 0, 1]\n",
      "\n",
      "Turn 2, guess FLESH, results [2, 2, 2, 2, 2]\n",
      "\n",
      "Game won!\n",
      "\n",
      "\n",
      "**GAME 1: target MUCUS**\n",
      "Turn 1, guess SLATE, results [1, 0, 0, 0, 0]\n",
      "\n",
      "Turn 2, guess MISSY, results [2, 0, 1, 0, 0]\n",
      "\n",
      "Turn 3, guess MUCUS, results [2, 2, 2, 2, 2]\n",
      "\n",
      "Game won!\n",
      "\n",
      "\n"
     ]
    }
   ],
   "source": [
    "rand_keys = np.random.randint(low=0, high=len(list_possible_answers), size=2)\n",
    "rand_words = [list_possible_answers[k] for k in rand_keys]\n",
    "\n",
    "for i, word in enumerate(rand_words):\n",
    "    print(f'**GAME {i}: target {word}**')\n",
    "    play_game(word, df_words_5l, debug=True)\n",
    "    print('\\n')"
   ]
  },
  {
   "cell_type": "markdown",
   "id": "540170c7",
   "metadata": {},
   "source": [
    "\n",
    "\n",
    "Test across all answers, returning results\n"
   ]
  },
  {
   "cell_type": "code",
   "execution_count": 21,
   "id": "e6915cef",
   "metadata": {},
   "outputs": [
    {
     "name": "stderr",
     "output_type": "stream",
     "text": [
      "100%|██████████████████████████████████████| 2315/2315 [05:27<00:00,  7.07it/s]\n"
     ]
    },
    {
     "data": {
      "text/plain": [
       "[('ABACK', 5),\n",
       " ('ABASE', 4),\n",
       " ('ABATE', 3),\n",
       " ('ABBEY', 4),\n",
       " ('ABBOT', 4),\n",
       " ('ABHOR', 4),\n",
       " ('ABIDE', 4),\n",
       " ('ABLED', 4),\n",
       " ('ABODE', 3),\n",
       " ('ABORT', 4)]"
      ]
     },
     "execution_count": 21,
     "metadata": {},
     "output_type": "execute_result"
    }
   ],
   "source": [
    "all_results = []\n",
    "for answer in tqdm(list_possible_answers):\n",
    "    all_results.append(play_game(answer, df_words_5l, debug=False))\n",
    "all_results[:10]"
   ]
  },
  {
   "cell_type": "markdown",
   "id": "8cebfc7a",
   "metadata": {},
   "source": [
    "\n",
    "\n",
    "Convert to dataframe, and plot our results!\n"
   ]
  },
  {
   "cell_type": "code",
   "execution_count": 22,
   "id": "7efba3cb",
   "metadata": {},
   "outputs": [
    {
     "name": "stdout",
     "output_type": "stream",
     "text": [
      "Average turns taken: 3.67\n",
      "Unsolved words: 13\n"
     ]
    },
    {
     "data": {
      "text/plain": [
       "<AxesSubplot:xlabel='turns_taken', ylabel='Count'>"
      ]
     },
     "execution_count": 22,
     "metadata": {},
     "output_type": "execute_result"
    },
    {
     "data": {
      "image/png": "[encoded data removed]",
      "text/plain": [
       "<Figure size 432x288 with 1 Axes>"
      ]
     },
     "metadata": {
      "needs_background": "light"
     },
     "output_type": "display_data"
    }
   ],
   "source": [
    "df_all_results = pd.DataFrame(data=all_results,\n",
    "                              columns=['word', 'turns_taken'])\n",
    "print('Average turns taken: {:.2f}'.format(df_all_results['turns_taken'].mean()),\n",
    "      'Unsolved words: {}'.format(df_all_results.query('turns_taken==7').shape[0]),\n",
    "      sep='\\n')\n",
    "sns.histplot(data=df_all_results['turns_taken'],\n",
    "             discrete=True)"
   ]
  },
  {
   "cell_type": "markdown",
   "id": "08aafacb",
   "metadata": {},
   "source": [
    "\n",
    "Game playing 2: Try playing with https://www.powerlanguage.co.uk/wordle/\n"
   ]
  },
  {
   "cell_type": "code",
   "execution_count": 23,
   "id": "c356ee2d",
   "metadata": {},
   "outputs": [
    {
     "name": "stdout",
     "output_type": "stream",
     "text": [
      "Turn 1, guess: SLATE, results:\n",
      "\n",
      "0,1,1,0,0\n",
      "Turn 2, guess: CANAL, results:\n",
      "\n",
      "0,2,0,1,1\n",
      "Turn 3, guess: LARVA, results:\n",
      "\n",
      "2,2,2,2,2\n",
      "Game won!\n"
     ]
    }
   ],
   "source": [
    "# Initialise game\n",
    "WordleGame = Game(df_words_5l)\n",
    "\n",
    "# Loop through turns\n",
    "for turn in range(6):\n",
    "    \n",
    "    # Our guess will be the word with the highest letter frequency\n",
    "    guess_word = WordleGame.guess().iloc[0]['word']\n",
    "    print(f'Turn {turn+1}, guess: {guess_word}, results:\\n')\n",
    "    \n",
    "    # This is where you put in your game results\n",
    "    guess_results = input() \n",
    "    list_guess_results = [int(n) for n in guess_results.split(',')]\n",
    "    if np.sum(list_guess_results) == 10:\n",
    "        print('Game won!')\n",
    "        break\n",
    "    \n",
    "    # Update game\n",
    "    WordleGame.update(guess_word, list_guess_results)"
   ]
  },
  {
   "cell_type": "code",
   "execution_count": null,
   "id": "407a2493",
   "metadata": {},
   "outputs": [],
   "source": []
  }
 ],
 "metadata": {
  "kernelspec": {
   "display_name": "Python 3 (ipykernel)",
   "language": "python",
   "name": "python3"
  },
  "language_info": {
   "codemirror_mode": {
    "name": "ipython",
    "version": 3
   },
   "file_extension": ".py",
   "mimetype": "text/x-python",
   "name": "python",
   "nbconvert_exporter": "python",
   "pygments_lexer": "ipython3",
   "version": "3.8.8"
  }
 },
 "nbformat": 4,
 "nbformat_minor": 5
}
